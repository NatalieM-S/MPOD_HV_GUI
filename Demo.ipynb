{
 "cells": [
  {
   "cell_type": "markdown",
   "id": "c3d4644c",
   "metadata": {},
   "source": [
    "Demo of custom functions for MPOD that can be called easily from this notebook: \n",
    "- Ramping based on fixed intervals \n",
    "- Ramping like a voltage divider"
   ]
  },
  {
   "cell_type": "code",
   "execution_count": 1,
   "id": "069fe8fd",
   "metadata": {},
   "outputs": [
    {
     "name": "stdout",
     "output_type": "stream",
     "text": [
      "Crate power state:  1\n",
      "All connected channels:  [0, 1, 2, 3, 4, 5, 6, 7, 700, 701, 702, 703, 704, 705, 706, 707, 800, 801, 802, 803, 804, 805, 806, 807]\n",
      "Channel  0  is designated as  Drift\n",
      "Channel  1  is designated as  GEM Top+\n",
      "Channel  2  is designated as  GEM Top-\n",
      "Channel  3  is designated as  GEM Mid+\n",
      "Channel  4  is designated as  GEM Mid-\n",
      "Channel  5  is designated as  GEM Low+\n",
      "Channel  6  is designated as  GEM Low-\n",
      "Channel  7  is designated as  None\n"
     ]
    }
   ],
   "source": [
    "from Driver.MPODClass import MPOD#Basic functionalities for HV Control\n",
    "from Driver.MPODCustomFunctions import CustomFx #Custom functions for advanced control\n",
    "\n",
    "Crate = MPOD(IP='169.254.107.70', MIBdir='/usr/share/snmp/mibs')# default settings\n",
    "FX = CustomFx(Crate, active_modules = [0], channel_names = ['Drift','GEM Top+','GEM Top-','GEM Mid+','GEM Mid-','GEM Low+','GEM Low-','None'])\n",
    "#These settings are not the default and need to be kept the same for these to work. Order of channels can be changed as long as text names are moved accordingly\n",
    "\n",
    "#Basic setup validation: \n",
    "print('Crate power state: ', Crate.QueryPowerCrate())\n",
    "print('All connected channels: ', Crate.GetAllNames())\n",
    "for idx, name in enumerate(FX.channel_names):\n",
    "    print('Channel ',FX.active_channels[idx], ' is designated as ', name)\n"
   ]
  },
  {
   "cell_type": "markdown",
   "id": "3a95a98c",
   "metadata": {},
   "source": [
    "Now the ramping functions can be demonstrated.\n",
    "1) Ramp all to zero\n",
    "2) Ramp like a voltage divider (x2 absolute values, Drift & GEM, with ratios for dividing GEM voltage)\n",
    "3) Ramp all by a fixed, global dV increment (x1 dV as input)\n",
    "4) Ramp all with individual dV increments (x7 dV as input) NOT YET IMPLEMENTED\n",
    "5) Ramp drift to a voltage, then set dV from drift NOT YET IMPLEMENTED\n"
   ]
  },
  {
   "cell_type": "code",
   "execution_count": null,
   "id": "19115533",
   "metadata": {},
   "outputs": [],
   "source": [
    "FX.IncrementAll()"
   ]
  },
  {
   "cell_type": "code",
   "execution_count": null,
   "id": "e70b663c",
   "metadata": {},
   "outputs": [],
   "source": [
    "FX.RampAll()#default is to ramp all to zero"
   ]
  },
  {
   "cell_type": "code",
   "execution_count": null,
   "id": "e0871754",
   "metadata": {},
   "outputs": [
    {
     "name": "stdout",
     "output_type": "stream",
     "text": [
      "[15, 12.0, 7.5, 4.5, 3.0, 1.5]\n",
      "Confirm settings below before sending\n",
      "Drift Voltage on channel0: 20 V\n",
      "GEM Top voltage on channel1 & 2: 15, 12.0 V\n",
      "GEM Mid voltage on channel3 & 4: 7.5, 4.5 V\n",
      "GEM Low voltage on channel5 & 6: 3.0, 1.5 V\n"
     ]
    }
   ],
   "source": [
    "FX.RampAll()#Ramps all to zero before next set\n",
    "\n",
    "V_Drift = 20\n",
    "V_GEM =  15 #Max V on GEMs\n",
    "divider_fractions = [1,0.8,0.5,0.3,0.2,0.1]#top to bottom, fractions of V_GEM\n",
    "\n",
    "print('V  Targets before ramp: ', Crate.GetAllTargetVoltages())\n",
    "print('V Actuals before ramp: ', Crate.GetAllVoltages())\n",
    "FX.RampMethod('Voltage Divider',[20,15,*divider_fractions])\n",
    "print('V Targets after ramp: ',Crate.GetAllTargetVoltages())\n",
    "print('V Actuals after ramp: ',Crate.GetAllVoltages())"
   ]
  },
  {
   "cell_type": "code",
   "execution_count": null,
   "id": "982647e6",
   "metadata": {},
   "outputs": [],
   "source": [
    "#Demo of ramping with aproximation of equal ramp rates: \n",
    "#TODO: Test this and make edits if needed\n",
    "FX.RampTogether(channels = [0,1], target_voltage = [50,100])\n",
    "# FX.RampTogether(FX.ActiveChannels,)\n",
    "# RampTogether(self, channels = None, target_voltage = None"
   ]
  },
  {
   "cell_type": "code",
   "execution_count": null,
   "id": "230df755",
   "metadata": {},
   "outputs": [],
   "source": [
    "FX.RampAll()#Ramps all to zero before next set\n",
    "\n",
    "v_to_increment = 50\n",
    "\n",
    "print('V  Targets before ramp: ', Crate.GetAllTargetVoltages())\n",
    "print('V Actuals before ramp: ', Crate.GetAllVoltages())\n",
    "FX.RampMethod('Increment All', v_to_increment)#Increments all channels by 50 V\n",
    "print('V Targets after ramp: ',Crate.GetAllTargetVoltages())\n",
    "print('V Actuals after ramp: ',Crate.GetAllVoltages())\n"
   ]
  },
  {
   "cell_type": "code",
   "execution_count": null,
   "id": "ca0d909e",
   "metadata": {},
   "outputs": [],
   "source": [
    "FX.RampAll()#Ramps all to zero before next set\n",
    "\n",
    "v_to_increment = [0,10,20,30,40,50,60]\n",
    "\n",
    "print('V  Targets before ramp: ', Crate.GetAllTargetVoltages())\n",
    "print('V Actuals before ramp: ', Crate.GetAllVoltages())\n",
    "FX.RampMethod('Individual Increments', v_to_increment)#Increments each channels by increment value\n",
    "print('V Targets after ramp: ',Crate.GetAllTargetVoltages())\n",
    "print('V Actuals after ramp: ',Crate.GetAllVoltages())\n"
   ]
  }
 ],
 "metadata": {
  "kernelspec": {
   "display_name": ".venv",
   "language": "python",
   "name": "python3"
  },
  "language_info": {
   "codemirror_mode": {
    "name": "ipython",
    "version": 3
   },
   "file_extension": ".py",
   "mimetype": "text/x-python",
   "name": "python",
   "nbconvert_exporter": "python",
   "pygments_lexer": "ipython3",
   "version": "3.12.3"
  }
 },
 "nbformat": 4,
 "nbformat_minor": 5
}
